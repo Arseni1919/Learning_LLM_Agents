{
 "cells": [
  {
   "metadata": {},
   "cell_type": "markdown",
   "source": "# LangGraph",
   "id": "5753f14e40f17c98"
  },
  {
   "cell_type": "code",
   "id": "eb7a64a3116002b8",
   "metadata": {
    "ExecuteTime": {
     "end_time": "2025-05-18T05:51:09.079661Z",
     "start_time": "2025-05-18T05:51:09.075832Z"
    }
   },
   "source": [
    "import random\n",
    "from typing import Literal\n",
    "from IPython.display import Image, display\n",
    "import os\n",
    "from typing import TypedDict, List, Dict, Any, Optional\n",
    "\n",
    "from langchain_ollama import OllamaLLM\n",
    "from langchain_ollama import ChatOllama\n",
    "from langchain_openai import ChatOpenAI\n",
    "from langchain_core.messages import HumanMessage\n",
    "\n",
    "from langgraph.graph import StateGraph, START, END"
   ],
   "outputs": [],
   "execution_count": 55
  },
  {
   "metadata": {
    "ExecuteTime": {
     "end_time": "2025-05-18T05:51:10.574560Z",
     "start_time": "2025-05-18T05:51:10.571717Z"
    }
   },
   "cell_type": "code",
   "source": [
    "# model_name = \"qwen3:1.7b\"\n",
    "model_name = \"mistral:v0.3\""
   ],
   "id": "e41eed9a3b548935",
   "outputs": [],
   "execution_count": 56
  },
  {
   "metadata": {
    "ExecuteTime": {
     "end_time": "2025-05-18T05:51:20.959692Z",
     "start_time": "2025-05-18T05:51:10.791254Z"
    }
   },
   "cell_type": "code",
   "source": [
    "chat_model = ChatOllama(model=model_name)\n",
    "print(chat_model.invoke(\"Who was the first man on the moon?\"))"
   ],
   "id": "initial_id",
   "outputs": [
    {
     "name": "stdout",
     "output_type": "stream",
     "text": [
      "content=' Neil Armstrong, an American astronaut and aeronautical engineer, was the first man to walk on the Moon. He landed on July 20, 1969, as part of NASA\\'s Apollo 11 mission, along with his fellow astronaut Buzz Aldrin. The famous words Armstrong spoke upon setting foot on the lunar surface were: \"That\\'s one small step for man, one giant leap for mankind.\"' additional_kwargs={} response_metadata={'model': 'mistral:v0.3', 'created_at': '2025-05-18T05:51:20.945466Z', 'done': True, 'done_reason': 'stop', 'total_duration': 10113283917, 'load_duration': 564197125, 'prompt_eval_count': 14, 'prompt_eval_duration': 4677844333, 'eval_count': 100, 'eval_duration': 4869505708, 'model_name': 'mistral:v0.3'} id='run--aa56cc7a-7aa7-4009-bbc4-b1da6fcedcb0-0' usage_metadata={'input_tokens': 14, 'output_tokens': 100, 'total_tokens': 114}\n"
     ]
    }
   ],
   "execution_count": 57
  },
  {
   "metadata": {
    "ExecuteTime": {
     "end_time": "2025-05-18T05:51:20.986645Z",
     "start_time": "2025-05-18T05:51:20.981861Z"
    }
   },
   "cell_type": "code",
   "source": [
    "class State(TypedDict):\n",
    "    graph_state: str"
   ],
   "id": "874277a9e7a9e244",
   "outputs": [],
   "execution_count": 58
  },
  {
   "metadata": {
    "ExecuteTime": {
     "end_time": "2025-05-18T05:51:21.011669Z",
     "start_time": "2025-05-18T05:51:21.009500Z"
    }
   },
   "cell_type": "code",
   "source": [
    "def node_1(state):\n",
    "    print(\"---Node 1---\")\n",
    "    return {\"graph_state\": state['graph_state'] +\" I am\"}\n",
    "\n",
    "def node_2(state):\n",
    "    print(\"---Node 2---\")\n",
    "    return {\"graph_state\": state['graph_state'] +\" happy!\"}\n",
    "\n",
    "def node_3(state):\n",
    "    print(\"---Node 3---\")\n",
    "    return {\"graph_state\": state['graph_state'] +\" sad!\"}"
   ],
   "id": "208fa1415596b46",
   "outputs": [],
   "execution_count": 59
  },
  {
   "metadata": {
    "ExecuteTime": {
     "end_time": "2025-05-18T05:51:21.024274Z",
     "start_time": "2025-05-18T05:51:21.022517Z"
    }
   },
   "cell_type": "code",
   "source": [
    "def decide_mood(state) -> Literal[\"node_2\", \"node_3\"]:\n",
    "\n",
    "    # Often, we will use state to decide on the next node to visit\n",
    "    user_input = state['graph_state']\n",
    "\n",
    "    # Here, let's just do a 50 / 50 split between nodes 2, 3\n",
    "    if random.random() < 0.5:\n",
    "\n",
    "        # 50% of the time, we return Node 2\n",
    "        return \"node_2\"\n",
    "\n",
    "    # 50% of the time, we return Node 3\n",
    "    return \"node_3\""
   ],
   "id": "f3aefae600944b28",
   "outputs": [],
   "execution_count": 60
  },
  {
   "metadata": {
    "ExecuteTime": {
     "end_time": "2025-05-18T05:51:21.033883Z",
     "start_time": "2025-05-18T05:51:21.029943Z"
    }
   },
   "cell_type": "code",
   "source": [
    "# Build graph\n",
    "builder = StateGraph(State)\n",
    "builder.add_node(\"node_1\", node_1)\n",
    "builder.add_node(\"node_2\", node_2)\n",
    "builder.add_node(\"node_3\", node_3)\n",
    "\n",
    "# Logic\n",
    "builder.add_edge(START, \"node_1\")\n",
    "builder.add_conditional_edges(\"node_1\", decide_mood)\n",
    "builder.add_edge(\"node_2\", END)\n",
    "builder.add_edge(\"node_3\", END)\n",
    "\n",
    "# Add\n",
    "graph = builder.compile()"
   ],
   "id": "dbc3340759cfcc2",
   "outputs": [],
   "execution_count": 61
  },
  {
   "metadata": {
    "ExecuteTime": {
     "end_time": "2025-05-19T10:36:40.193440Z",
     "start_time": "2025-05-19T10:36:40.078370Z"
    }
   },
   "cell_type": "code",
   "source": [
    "# View\n",
    "Image(graph.get_graph().draw_mermaid_png())\n",
    "# print(graph.get_graph().draw_ascii())"
   ],
   "id": "9aad29e591896207",
   "outputs": [
    {
     "data": {
      "image/png": "[encoded data removed]",
      "text/plain": [
       "<IPython.core.display.Image object>"
      ]
     },
     "execution_count": 111,
     "metadata": {},
     "output_type": "execute_result"
    }
   ],
   "execution_count": 111
  },
  {
   "metadata": {},
   "cell_type": "code",
   "outputs": [],
   "execution_count": null,
   "source": "",
   "id": "7162df978109984f"
  },
  {
   "metadata": {
    "ExecuteTime": {
     "end_time": "2025-05-18T04:59:02.795666Z",
     "start_time": "2025-05-18T04:59:02.789150Z"
    }
   },
   "cell_type": "code",
   "source": "graph.invoke({\"graph_state\" : \"Hi, this is Lance.\"})",
   "id": "a7759001f537671e",
   "outputs": [
    {
     "name": "stdout",
     "output_type": "stream",
     "text": [
      "---Node 1---\n",
      "---Node 2---\n"
     ]
    },
    {
     "data": {
      "text/plain": [
       "{'graph_state': 'Hi, this is Lance. I am happy!'}"
      ]
     },
     "execution_count": 36,
     "metadata": {},
     "output_type": "execute_result"
    }
   ],
   "execution_count": 36
  },
  {
   "metadata": {},
   "cell_type": "markdown",
   "source": [
    "---\n",
    "## Mini Project"
   ],
   "id": "8d6f669a5850055e"
  },
  {
   "metadata": {
    "ExecuteTime": {
     "end_time": "2025-05-18T06:02:25.777503Z",
     "start_time": "2025-05-18T06:02:25.774603Z"
    }
   },
   "cell_type": "code",
   "source": [
    "class EmailState(TypedDict):\n",
    "    email: Dict[str, Any]\n",
    "    email_category: Optional[str]\n",
    "    spam_reason: Optional[str]\n",
    "    is_spam: Optional[bool]\n",
    "    email_draft: Optional[str]\n",
    "    messages: List[Dict[str, Any]]"
   ],
   "id": "338807ca87de2498",
   "outputs": [],
   "execution_count": 78
  },
  {
   "metadata": {
    "ExecuteTime": {
     "end_time": "2025-05-18T06:02:25.825674Z",
     "start_time": "2025-05-18T06:02:25.792223Z"
    }
   },
   "cell_type": "code",
   "source": "chat_model = ChatOllama(model=model_name)",
   "id": "cf1c2973e755d3a9",
   "outputs": [],
   "execution_count": 79
  },
  {
   "metadata": {
    "ExecuteTime": {
     "end_time": "2025-05-18T06:02:25.833190Z",
     "start_time": "2025-05-18T06:02:25.831775Z"
    }
   },
   "cell_type": "code",
   "source": [
    "def read_email(state: EmailState):\n",
    "    \"\"\"Alfred reads and logs the incoming email\"\"\"\n",
    "    email = state[\"email\"]\n",
    "    print(f\"Alfred is processing an email from {email['sender']} with subject: {email['subject']}\")\n",
    "    return {}  # no state changes needed here"
   ],
   "id": "70c527be525698ca",
   "outputs": [],
   "execution_count": 80
  },
  {
   "metadata": {
    "ExecuteTime": {
     "end_time": "2025-05-18T06:02:25.843418Z",
     "start_time": "2025-05-18T06:02:25.840714Z"
    }
   },
   "cell_type": "code",
   "source": [
    "def classify_email(state: EmailState):\n",
    "    \"\"\"Alfred uses an LLM to determine if the email is spam or legit\"\"\"\n",
    "    email = state['email']\n",
    "    prompt = f\"\"\"\n",
    "    As Alfred the butler, analyze this email and determine if it is spam or legitimate.\n",
    "\n",
    "    Email:\n",
    "    From: {email['sender']}\n",
    "    Subject: {email['subject']}\n",
    "    Body: {email['body']}\n",
    "\n",
    "    First, determine if this email is spam. If it is spam, explain why.\n",
    "    If it is legitimate, categorize it (inquiry, complaint, thank you, etc.).\n",
    "    \"\"\"\n",
    "    messages = [HumanMessage(content=prompt)]\n",
    "    response = chat_model.invoke(messages)  # call the LLM !\n",
    "\n",
    "    response_text = response.content.lower()\n",
    "    is_spam = 'spam' in response_text and 'not spam' not in response_text\n",
    "\n",
    "    spam_reason = None\n",
    "    if is_spam:\n",
    "        spam_reason = 'kaha'\n",
    "    if is_spam and 'reason:' in response_text:\n",
    "        spam_reason = response_text.split('reason:')[1].strip()\n",
    "\n",
    "\n",
    "    email_category = None\n",
    "    if not is_spam:\n",
    "        categories = [\"inquiry\", \"complaint\", \"thank you\", \"request\", \"information\"]\n",
    "        for category in categories:\n",
    "            if category in response_text:\n",
    "                email_category = category\n",
    "                break\n",
    "\n",
    "    new_messages = state.get('messages', []) + [\n",
    "        {'role': 'user', 'content': prompt},\n",
    "        {'role': 'assistant', 'content': response.content}\n",
    "    ]\n",
    "\n",
    "    return {\n",
    "        'is_spam': is_spam,\n",
    "        'spam_reason': spam_reason,\n",
    "        'email_category': email_category,\n",
    "        'messages': new_messages\n",
    "    }"
   ],
   "id": "8c47ebf504e790b7",
   "outputs": [],
   "execution_count": 81
  },
  {
   "metadata": {
    "ExecuteTime": {
     "end_time": "2025-05-18T06:02:25.851736Z",
     "start_time": "2025-05-18T06:02:25.849781Z"
    }
   },
   "cell_type": "code",
   "source": [
    "def handle_spam(state: EmailState):\n",
    "    \"\"\"Alfred discards spam email with a note\"\"\"\n",
    "    print(f'Alfred marked it as spam because {state['spam_reason']}')\n",
    "    return {}"
   ],
   "id": "b989acc2dcebea27",
   "outputs": [],
   "execution_count": 82
  },
  {
   "metadata": {
    "ExecuteTime": {
     "end_time": "2025-05-18T06:02:25.862090Z",
     "start_time": "2025-05-18T06:02:25.859785Z"
    }
   },
   "cell_type": "code",
   "source": [
    "def draft_response(state: EmailState):\n",
    "    \"\"\"Alfred drafts a preliminary response for legit emails\"\"\"\n",
    "    email = state['email']\n",
    "    category = state['email_category'] or 'general'\n",
    "\n",
    "    prompt = f\"\"\"\n",
    "    As Alfred the butler, draft a polite preliminary response to this email.\n",
    "\n",
    "    Email:\n",
    "    From: {email['sender']}\n",
    "    Subject: {email['subject']}\n",
    "    Body: {email['body']}\n",
    "\n",
    "    This email has been categorized as: {category}\n",
    "\n",
    "    Draft a brief, professional response that Mr. Hugg can review and personalize before sending.\n",
    "    \"\"\"\n",
    "\n",
    "    messages = [HumanMessage(content=prompt)]\n",
    "    response = chat_model.invoke(messages)  # LLM call !\n",
    "    new_messages = state.get('messages', []) + [\n",
    "        {'role': 'user', 'content': prompt},\n",
    "        {'role': 'assistant', 'content': response.content},\n",
    "    ]\n",
    "\n",
    "    return {\n",
    "        'email_draft': response.content,\n",
    "        'messages': new_messages\n",
    "    }"
   ],
   "id": "89f2f24b6bc3ae17",
   "outputs": [],
   "execution_count": 83
  },
  {
   "metadata": {
    "ExecuteTime": {
     "end_time": "2025-05-18T06:02:25.874549Z",
     "start_time": "2025-05-18T06:02:25.872227Z"
    }
   },
   "cell_type": "code",
   "source": [
    "def notify_mr_hugg(state: EmailState):\n",
    "    \"\"\"Alfred notifies Mr. Hugg about the email and presents the draft response\"\"\"\n",
    "    email = state['email']\n",
    "\n",
    "    print(\"\\n\" + \"=\"*50)\n",
    "    print(f\"Sir, you've received an email from {email['sender']}.\")\n",
    "    print(f\"Subject: {email['subject']}\")\n",
    "    print(f\"Category: {state['email_category']}\")\n",
    "    print(\"\\nI've prepared a draft response for your review:\")\n",
    "    print(\"-\"*50)\n",
    "    print(state[\"email_draft\"])\n",
    "    print(\"=\"*50 + \"\\n\")\n",
    "\n",
    "    return {}"
   ],
   "id": "424f97cdb80323fb",
   "outputs": [],
   "execution_count": 84
  },
  {
   "metadata": {
    "ExecuteTime": {
     "end_time": "2025-05-18T06:02:25.884016Z",
     "start_time": "2025-05-18T06:02:25.882438Z"
    }
   },
   "cell_type": "code",
   "source": [
    "def route_email(state: EmailState) -> str:\n",
    "    \"\"\"Determine the next step based on spam classification\"\"\"\n",
    "    if state['is_spam']:\n",
    "        return 'spam'\n",
    "    else:\n",
    "        return 'legit'"
   ],
   "id": "c3bad0b89a94253",
   "outputs": [],
   "execution_count": 85
  },
  {
   "metadata": {
    "ExecuteTime": {
     "end_time": "2025-05-18T06:02:25.897987Z",
     "start_time": "2025-05-18T06:02:25.893051Z"
    }
   },
   "cell_type": "code",
   "source": [
    "email_graph = StateGraph(EmailState)\n",
    "\n",
    "# nodes\n",
    "email_graph.add_node('read_email', read_email)\n",
    "email_graph.add_node('classify_email', classify_email)\n",
    "email_graph.add_node('handle_spam', handle_spam)\n",
    "email_graph.add_node('draft_response', draft_response)\n",
    "email_graph.add_node('notify_mr_hugg', notify_mr_hugg)\n",
    "\n",
    "# edges\n",
    "email_graph.add_edge(START, 'read_email')\n",
    "email_graph.add_edge('read_email', 'classify_email')\n",
    "email_graph.add_conditional_edges('classify_email', route_email, {\n",
    "    'spam': 'handle_spam',\n",
    "    'legit': 'draft_response'\n",
    "})\n",
    "email_graph.add_edge('handle_spam', END)\n",
    "email_graph.add_edge('draft_response', 'notify_mr_hugg')\n",
    "email_graph.add_edge('notify_mr_hugg', END)\n",
    "\n",
    "# compile\n",
    "compiled_graph = email_graph.compile()"
   ],
   "id": "2c5d00e5aebd5713",
   "outputs": [],
   "execution_count": 86
  },
  {
   "metadata": {
    "ExecuteTime": {
     "end_time": "2025-05-18T06:02:25.906591Z",
     "start_time": "2025-05-18T06:02:25.905176Z"
    }
   },
   "cell_type": "code",
   "source": "# display(Image(compiled_graph.get_graph().draw_mermaid_png()))",
   "id": "97eed4de5f29fb1",
   "outputs": [],
   "execution_count": 87
  },
  {
   "metadata": {
    "ExecuteTime": {
     "end_time": "2025-05-18T06:02:25.916167Z",
     "start_time": "2025-05-18T06:02:25.914461Z"
    }
   },
   "cell_type": "code",
   "source": [
    "# Example legitimate email\n",
    "legitimate_email = {\n",
    "    \"sender\": \"john.smith@example.com\",\n",
    "    \"subject\": \"Question about your services\",\n",
    "    \"body\": \"Dear Mr. Hugg, I was referred to you by a colleague and I'm interested in learning more about your consulting services. Could we schedule a call next week? Best regards, John Smith\"\n",
    "}\n",
    "\n",
    "# Example spam email\n",
    "spam_email = {\n",
    "    \"sender\": \"winner@lottery-intl.com\",\n",
    "    \"subject\": \"YOU HAVE WON $5,000,000!!!\",\n",
    "    \"body\": \"CONGRATULATIONS! You have been selected as the winner of our international lottery! To claim your $5,000,000 prize, please send us your bank details and a processing fee of $100.\"\n",
    "}"
   ],
   "id": "ed22f839166f4944",
   "outputs": [],
   "execution_count": 88
  },
  {
   "metadata": {
    "ExecuteTime": {
     "end_time": "2025-05-18T06:03:47.548669Z",
     "start_time": "2025-05-18T06:03:37.077223Z"
    }
   },
   "cell_type": "code",
   "source": [
    "# Process the legitimate email\n",
    "print(\"\\nProcessing legitimate email...\")\n",
    "legitimate_result = compiled_graph.invoke({\n",
    "    \"email\": legitimate_email,\n",
    "    \"is_spam\": None,\n",
    "    \"spam_reason\": None,\n",
    "    \"email_category\": None,\n",
    "    \"email_draft\": None,\n",
    "    \"messages\": []\n",
    "})"
   ],
   "id": "a13e4791669d7a81",
   "outputs": [
    {
     "name": "stdout",
     "output_type": "stream",
     "text": [
      "\n",
      "Processing legitimate email...\n",
      "Alfred is processing an email from john.smith@example.com with subject: Question about your services\n",
      "Alfred marked it as spam because kaha\n"
     ]
    }
   ],
   "execution_count": 91
  },
  {
   "metadata": {
    "ExecuteTime": {
     "end_time": "2025-05-18T06:02:49.885594Z",
     "start_time": "2025-05-18T06:02:32.218722Z"
    }
   },
   "cell_type": "code",
   "source": [
    "# Process the spam email\n",
    "print(\"\\nProcessing spam email...\")\n",
    "spam_result = compiled_graph.invoke({\n",
    "    \"email\": spam_email,\n",
    "    \"is_spam\": None,\n",
    "    \"spam_reason\": None,\n",
    "    \"email_category\": None,\n",
    "    \"email_draft\": None,\n",
    "    \"messages\": []\n",
    "})"
   ],
   "id": "b96145f557051907",
   "outputs": [
    {
     "name": "stdout",
     "output_type": "stream",
     "text": [
      "\n",
      "Processing spam email...\n",
      "Alfred is processing an email from winner@lottery-intl.com with subject: YOU HAVE WON $5,000,000!!!\n",
      "Alfred marked it as spam because kaha\n"
     ]
    }
   ],
   "execution_count": 90
  },
  {
   "metadata": {
    "ExecuteTime": {
     "end_time": "2025-05-18T16:12:49.391601Z",
     "start_time": "2025-05-18T16:12:35.646327Z"
    }
   },
   "cell_type": "code",
   "source": [
    "# response = chat_model.invoke('Draw a cat with ascii')\n",
    "response = chat_model.stream('What is DCOP?')\n",
    "full_string = ''\n",
    "for c in response:\n",
    "    print(c.content, end='')\n",
    "    full_string += c.content\n",
    "print('\\n\\n--- end ---')\n",
    "# print(full_string)"
   ],
   "id": "ce02c656e2c4f01d",
   "outputs": [
    {
     "name": "stdout",
     "output_type": "stream",
     "text": [
      " DCOP stands for Distributed Change of Ownership Protocol. It's a protocol used in the service-oriented architecture (SOA) of the GNOME desktop environment, a popular desktop environment for Linux and Unix systems.\n",
      "\n",
      "In simple terms, DCOP allows communication between different processes running on the same system, enabling them to interact with each other in a way that is similar to function calls within a single program. This makes it possible for various applications and applets to communicate with one another, improving the overall functionality of the desktop environment by allowing these components to work together seamlessly.\n",
      "\n",
      "For instance, if you have an email client and a music player on your GNOME desktop, they can use DCOP to share information or even manipulate each other's state. For example, the music player could pause playback when you receive a new email. This inter-process communication is essential for creating a unified and seamless user experience.\n",
      "\n",
      "In more recent years, D-Bus has replaced DCOP as the primary inter-process communication method in GNOME, but DCOP continues to be used in some legacy applications.\n",
      "\n",
      "--- end ---\n",
      " DCOP stands for Distributed Change of Ownership Protocol. It's a protocol used in the service-oriented architecture (SOA) of the GNOME desktop environment, a popular desktop environment for Linux and Unix systems.\n",
      "\n",
      "In simple terms, DCOP allows communication between different processes running on the same system, enabling them to interact with each other in a way that is similar to function calls within a single program. This makes it possible for various applications and applets to communicate with one another, improving the overall functionality of the desktop environment by allowing these components to work together seamlessly.\n",
      "\n",
      "For instance, if you have an email client and a music player on your GNOME desktop, they can use DCOP to share information or even manipulate each other's state. For example, the music player could pause playback when you receive a new email. This inter-process communication is essential for creating a unified and seamless user experience.\n",
      "\n",
      "In more recent years, D-Bus has replaced DCOP as the primary inter-process communication method in GNOME, but DCOP continues to be used in some legacy applications.\n"
     ]
    }
   ],
   "execution_count": 102
  },
  {
   "metadata": {},
   "cell_type": "code",
   "outputs": [],
   "execution_count": null,
   "source": "",
   "id": "c17c48b3a6950a90"
  }
 ],
 "metadata": {
  "kernelspec": {
   "display_name": "Python 3",
   "language": "python",
   "name": "python3"
  },
  "language_info": {
   "codemirror_mode": {
    "name": "ipython",
    "version": 2
   },
   "file_extension": ".py",
   "mimetype": "text/x-python",
   "name": "python",
   "nbconvert_exporter": "python",
   "pygments_lexer": "ipython2",
   "version": "2.7.6"
  }
 },
 "nbformat": 4,
 "nbformat_minor": 5
}
