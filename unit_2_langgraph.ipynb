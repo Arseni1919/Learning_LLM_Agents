{
 "cells": [
  {
   "metadata": {},
   "cell_type": "markdown",
   "source": "# LangGraph",
   "id": "5753f14e40f17c98"
  },
  {
   "cell_type": "code",
   "id": "eb7a64a3116002b8",
   "metadata": {
    "ExecuteTime": {
     "end_time": "2025-05-18T02:43:40.047665Z",
     "start_time": "2025-05-18T02:43:40.042977Z"
    }
   },
   "source": [
    "from langchain_ollama import OllamaLLM\n",
    "from langchain_ollama import ChatOllama\n",
    "from typing_extensions import TypedDict"
   ],
   "outputs": [],
   "execution_count": 4
  },
  {
   "metadata": {
    "ExecuteTime": {
     "end_time": "2025-05-18T02:25:56.943630Z",
     "start_time": "2025-05-18T02:25:56.941734Z"
    }
   },
   "cell_type": "code",
   "source": [
    "# model_name = \"qwen3:1.7b\"\n",
    "model_name = \"mistral:v0.3\""
   ],
   "id": "e41eed9a3b548935",
   "outputs": [],
   "execution_count": 2
  },
  {
   "metadata": {
    "ExecuteTime": {
     "end_time": "2025-05-18T02:26:07.628285Z",
     "start_time": "2025-05-18T02:25:57.241882Z"
    }
   },
   "cell_type": "code",
   "source": [
    "chat_model = ChatOllama(model=model_name)\n",
    "print(chat_model.invoke(\"Who was the first man on the moon?\"))"
   ],
   "id": "initial_id",
   "outputs": [
    {
     "name": "stdout",
     "output_type": "stream",
     "text": [
      "content=' The first man on the moon was Neil Armstrong. He landed on the moon on July 20, 1969, as part of the Apollo 11 mission by NASA, the U.S. space agency. His famous words, \"That\\'s one small step for man, one giant leap for mankind,\" were spoken during that landing. Buzz Aldrin was the second man to walk on the moon on the same mission.' additional_kwargs={} response_metadata={'model': 'mistral:v0.3', 'created_at': '2025-05-18T02:26:07.620281Z', 'done': True, 'done_reason': 'stop', 'total_duration': 10338792708, 'load_duration': 559110958, 'prompt_eval_count': 14, 'prompt_eval_duration': 4978284834, 'eval_count': 96, 'eval_duration': 4800420166, 'model_name': 'mistral:v0.3'} id='run--6f52c2c4-8aa2-4387-89dc-f023f90bd871-0' usage_metadata={'input_tokens': 14, 'output_tokens': 96, 'total_tokens': 110}\n"
     ]
    }
   ],
   "execution_count": 3
  },
  {
   "metadata": {
    "ExecuteTime": {
     "end_time": "2025-05-18T02:44:01.168588Z",
     "start_time": "2025-05-18T02:44:01.165748Z"
    }
   },
   "cell_type": "code",
   "source": [
    "class State(TypedDict):\n",
    "    graph_state: str"
   ],
   "id": "874277a9e7a9e244",
   "outputs": [],
   "execution_count": 5
  },
  {
   "metadata": {},
   "cell_type": "code",
   "outputs": [],
   "execution_count": null,
   "source": "",
   "id": "208fa1415596b46"
  }
 ],
 "metadata": {
  "kernelspec": {
   "display_name": "Python 3",
   "language": "python",
   "name": "python3"
  },
  "language_info": {
   "codemirror_mode": {
    "name": "ipython",
    "version": 2
   },
   "file_extension": ".py",
   "mimetype": "text/x-python",
   "name": "python",
   "nbconvert_exporter": "python",
   "pygments_lexer": "ipython2",
   "version": "2.7.6"
  }
 },
 "nbformat": 4,
 "nbformat_minor": 5
}
