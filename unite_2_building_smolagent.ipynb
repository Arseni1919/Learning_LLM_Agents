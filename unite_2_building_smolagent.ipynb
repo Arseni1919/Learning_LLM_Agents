{
 "cells": [
  {
   "metadata": {
    "ExecuteTime": {
     "end_time": "2025-05-01T05:55:19.845649Z",
     "start_time": "2025-05-01T05:55:19.228340Z"
    }
   },
   "cell_type": "code",
   "source": [
    "import smolagents\n",
    "from smolagents import PromptTemplates\n",
    "from smolagents import MLXModel\n",
    "from transformers import AutoTokenizer\n",
    "from smolagents import CodeAgent\n",
    "from langchain_ollama import ChatOllama"
   ],
   "id": "76ca5a0c4df84811",
   "outputs": [],
   "execution_count": 38
  },
  {
   "metadata": {
    "ExecuteTime": {
     "end_time": "2025-05-01T05:55:01.230763Z",
     "start_time": "2025-05-01T05:55:01.222815Z"
    }
   },
   "cell_type": "code",
   "source": [
    "from smolagents import CodeAgent, DuckDuckGoSearchTool, HfApiModel\n",
    "\n",
    "# agent = CodeAgent(tools=[DuckDuckGoSearchTool()], model=HfApiModel())\n",
    "#\n",
    "# agent.run(\"Search for the best music recommendations for a party at the Wayne's mansion.\")"
   ],
   "id": "8f81c046cf1fd719",
   "outputs": [],
   "execution_count": 37
  },
  {
   "metadata": {
    "ExecuteTime": {
     "end_time": "2025-05-01T06:00:16.113822Z",
     "start_time": "2025-05-01T06:00:16.072970Z"
    }
   },
   "cell_type": "code",
   "source": [
    "# chat_model = ChatOllama(model=\"llama3.1:8b\")\n",
    "chat_model = ChatOllama(model=\"gemma3:1b\")\n"
   ],
   "id": "2b87cc558655549a",
   "outputs": [],
   "execution_count": 42
  },
  {
   "metadata": {
    "ExecuteTime": {
     "end_time": "2025-05-01T06:00:35.553614Z",
     "start_time": "2025-05-01T06:00:34.851Z"
    }
   },
   "cell_type": "code",
   "source": "print(chat_model.invoke(\"Who was the first man on the moon?\"))",
   "id": "799dd6a614d2c18b",
   "outputs": [
    {
     "name": "stdout",
     "output_type": "stream",
     "text": [
      "content='Neil Armstrong was the first man to walk on the moon! \\n\\nHe took that historic step on July 20, 1969, during the Apollo 11 mission. \\n\\n' additional_kwargs={} response_metadata={'model': 'gemma3:1b', 'created_at': '2025-05-01T06:00:35.550692Z', 'done': True, 'done_reason': 'stop', 'total_duration': 696624500, 'load_duration': 51640042, 'prompt_eval_count': 18, 'prompt_eval_duration': 15413625, 'eval_count': 42, 'eval_duration': 629225000, 'model_name': 'gemma3:1b'} id='run-f2ff2bb0-cbaf-46a6-83d6-5a07116da3cd-0' usage_metadata={'input_tokens': 18, 'output_tokens': 42, 'total_tokens': 60}\n"
     ]
    }
   ],
   "execution_count": 48
  },
  {
   "metadata": {},
   "cell_type": "code",
   "outputs": [],
   "execution_count": null,
   "source": "",
   "id": "bc139a09fe91099f"
  }
 ],
 "metadata": {
  "kernelspec": {
   "display_name": "Python 3",
   "language": "python",
   "name": "python3"
  },
  "language_info": {
   "codemirror_mode": {
    "name": "ipython",
    "version": 2
   },
   "file_extension": ".py",
   "mimetype": "text/x-python",
   "name": "python",
   "nbconvert_exporter": "python",
   "pygments_lexer": "ipython2",
   "version": "2.7.6"
  }
 },
 "nbformat": 4,
 "nbformat_minor": 5
}
